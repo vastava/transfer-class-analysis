{
 "cells": [
  {
   "cell_type": "code",
   "execution_count": 2,
   "metadata": {},
   "outputs": [],
   "source": [
    "import numpy as np\n",
    "import pandas as pd\n",
    "import math\n",
    "import matplotlib.pyplot as plt\n",
    "\n",
    "names = ['college', 'residence', 'gender','ethn', 'number','year','status' ]\n",
    "df = pd.read_csv('updatedUGappsbymultiple.csv',names=names,header=0,usecols=[0,1,2,3,4,5,6])"
   ]
  },
  {
   "cell_type": "code",
   "execution_count": 3,
   "metadata": {},
   "outputs": [],
   "source": [
    "newnames = ['college', 'department', 'major', 'firstgen', 'number','year', 'status']\n",
    "df2 = pd.read_csv('UGappsfirstgenandothers.csv',names=newnames,header=0,usecols=[0,1,2,3,4,5,6]) "
   ]
  },
  {
   "cell_type": "code",
   "execution_count": null,
   "metadata": {},
   "outputs": [],
   "source": []
  },
  {
   "cell_type": "code",
   "execution_count": 4,
   "metadata": {},
   "outputs": [],
   "source": [
    "classof20 = df[df.year == '2017-18']\n",
    "classof19 = df[df.year == '2016-17']\n",
    "classof18 = df[df.year == '2015-16']\n",
    "\n",
    "newclassof20 = df2[df2.year == '2017-18']\n",
    "newclassof19 = df2[df2.year == '2016-17']\n",
    "newclassof18 = df2[df2.year == '2015-16']"
   ]
  },
  {
   "cell_type": "code",
   "execution_count": 5,
   "metadata": {},
   "outputs": [],
   "source": [
    "coc = classof20[classof20.college == 'Clg of Chemistry']\n",
    "coe = classof20[classof20.college == 'Clg of Engineering']\n",
    "ced = classof20[classof20.college == 'Clg of Environmental Design']\n",
    "lands = classof20[classof20.college == 'Clg of Letters & Science']\n",
    "cnr = classof20[classof20.college == 'Clg of Natural Resources']\n",
    "haas = classof20[classof20.college == 'Haas School of Business']"
   ]
  },
  {
   "cell_type": "code",
   "execution_count": 6,
   "metadata": {},
   "outputs": [
    {
     "name": "stdout",
     "output_type": "stream",
     "text": [
      "30\n"
     ]
    }
   ],
   "source": [
    "print(len(coc))"
   ]
  },
  {
   "cell_type": "code",
   "execution_count": 7,
   "metadata": {},
   "outputs": [
    {
     "data": {
      "text/html": [
       "<div>\n",
       "<style scoped>\n",
       "    .dataframe tbody tr th:only-of-type {\n",
       "        vertical-align: middle;\n",
       "    }\n",
       "\n",
       "    .dataframe tbody tr th {\n",
       "        vertical-align: top;\n",
       "    }\n",
       "\n",
       "    .dataframe thead th {\n",
       "        text-align: right;\n",
       "    }\n",
       "</style>\n",
       "<table border=\"1\" class=\"dataframe\">\n",
       "  <thead>\n",
       "    <tr style=\"text-align: right;\">\n",
       "      <th></th>\n",
       "      <th>college</th>\n",
       "      <th>residence</th>\n",
       "      <th>gender</th>\n",
       "      <th>ethn</th>\n",
       "      <th>number</th>\n",
       "      <th>year</th>\n",
       "      <th>status</th>\n",
       "    </tr>\n",
       "  </thead>\n",
       "  <tbody>\n",
       "    <tr>\n",
       "      <th>286</th>\n",
       "      <td>Clg of Letters &amp; Science</td>\n",
       "      <td>CA Resident</td>\n",
       "      <td>Female</td>\n",
       "      <td>White</td>\n",
       "      <td>352.0</td>\n",
       "      <td>2017-18</td>\n",
       "      <td>(SIRed)</td>\n",
       "    </tr>\n",
       "    <tr>\n",
       "      <th>271</th>\n",
       "      <td>Clg of Letters &amp; Science</td>\n",
       "      <td>CA Resident</td>\n",
       "      <td>Female</td>\n",
       "      <td>Asian</td>\n",
       "      <td>350.0</td>\n",
       "      <td>2017-18</td>\n",
       "      <td>(SIRed)</td>\n",
       "    </tr>\n",
       "    <tr>\n",
       "      <th>307</th>\n",
       "      <td>Clg of Letters &amp; Science</td>\n",
       "      <td>CA Resident</td>\n",
       "      <td>Male</td>\n",
       "      <td>White</td>\n",
       "      <td>299.0</td>\n",
       "      <td>2017-18</td>\n",
       "      <td>(SIRed)</td>\n",
       "    </tr>\n",
       "    <tr>\n",
       "      <th>292</th>\n",
       "      <td>Clg of Letters &amp; Science</td>\n",
       "      <td>CA Resident</td>\n",
       "      <td>Male</td>\n",
       "      <td>Asian</td>\n",
       "      <td>298.0</td>\n",
       "      <td>2017-18</td>\n",
       "      <td>(SIRed)</td>\n",
       "    </tr>\n",
       "    <tr>\n",
       "      <th>274</th>\n",
       "      <td>Clg of Letters &amp; Science</td>\n",
       "      <td>CA Resident</td>\n",
       "      <td>Female</td>\n",
       "      <td>Chicano/Latino</td>\n",
       "      <td>258.0</td>\n",
       "      <td>2017-18</td>\n",
       "      <td>(SIRed)</td>\n",
       "    </tr>\n",
       "    <tr>\n",
       "      <th>295</th>\n",
       "      <td>Clg of Letters &amp; Science</td>\n",
       "      <td>CA Resident</td>\n",
       "      <td>Male</td>\n",
       "      <td>Chicano/Latino</td>\n",
       "      <td>225.0</td>\n",
       "      <td>2017-18</td>\n",
       "      <td>(SIRed)</td>\n",
       "    </tr>\n",
       "    <tr>\n",
       "      <th>313</th>\n",
       "      <td>Clg of Letters &amp; Science</td>\n",
       "      <td>International</td>\n",
       "      <td>Female</td>\n",
       "      <td>International</td>\n",
       "      <td>205.0</td>\n",
       "      <td>2017-18</td>\n",
       "      <td>(SIRed)</td>\n",
       "    </tr>\n",
       "    <tr>\n",
       "      <th>316</th>\n",
       "      <td>Clg of Letters &amp; Science</td>\n",
       "      <td>International</td>\n",
       "      <td>Male</td>\n",
       "      <td>International</td>\n",
       "      <td>165.0</td>\n",
       "      <td>2017-18</td>\n",
       "      <td>(SIRed)</td>\n",
       "    </tr>\n",
       "    <tr>\n",
       "      <th>268</th>\n",
       "      <td>Clg of Letters &amp; Science</td>\n",
       "      <td>CA Resident</td>\n",
       "      <td>Female</td>\n",
       "      <td>African American</td>\n",
       "      <td>64.0</td>\n",
       "      <td>2017-18</td>\n",
       "      <td>(SIRed)</td>\n",
       "    </tr>\n",
       "    <tr>\n",
       "      <th>289</th>\n",
       "      <td>Clg of Letters &amp; Science</td>\n",
       "      <td>CA Resident</td>\n",
       "      <td>Male</td>\n",
       "      <td>African American</td>\n",
       "      <td>52.0</td>\n",
       "      <td>2017-18</td>\n",
       "      <td>(SIRed)</td>\n",
       "    </tr>\n",
       "    <tr>\n",
       "      <th>125</th>\n",
       "      <td>Clg of Engineering</td>\n",
       "      <td>CA Resident</td>\n",
       "      <td>Male</td>\n",
       "      <td>Asian</td>\n",
       "      <td>52.0</td>\n",
       "      <td>2017-18</td>\n",
       "      <td>(SIRed)</td>\n",
       "    </tr>\n",
       "    <tr>\n",
       "      <th>149</th>\n",
       "      <td>Clg of Engineering</td>\n",
       "      <td>International</td>\n",
       "      <td>Male</td>\n",
       "      <td>International</td>\n",
       "      <td>46.0</td>\n",
       "      <td>2017-18</td>\n",
       "      <td>(SIRed)</td>\n",
       "    </tr>\n",
       "    <tr>\n",
       "      <th>140</th>\n",
       "      <td>Clg of Engineering</td>\n",
       "      <td>CA Resident</td>\n",
       "      <td>Male</td>\n",
       "      <td>White</td>\n",
       "      <td>37.0</td>\n",
       "      <td>2017-18</td>\n",
       "      <td>(SIRed)</td>\n",
       "    </tr>\n",
       "    <tr>\n",
       "      <th>396</th>\n",
       "      <td>Clg of Natural Resources</td>\n",
       "      <td>CA Resident</td>\n",
       "      <td>Female</td>\n",
       "      <td>White</td>\n",
       "      <td>33.0</td>\n",
       "      <td>2017-18</td>\n",
       "      <td>(SIRed)</td>\n",
       "    </tr>\n",
       "    <tr>\n",
       "      <th>128</th>\n",
       "      <td>Clg of Engineering</td>\n",
       "      <td>CA Resident</td>\n",
       "      <td>Male</td>\n",
       "      <td>Chicano/Latino</td>\n",
       "      <td>26.0</td>\n",
       "      <td>2017-18</td>\n",
       "      <td>(SIRed)</td>\n",
       "    </tr>\n",
       "    <tr>\n",
       "      <th>259</th>\n",
       "      <td>Clg of Letters &amp; Science</td>\n",
       "      <td>CA Resident</td>\n",
       "      <td>Decline to State</td>\n",
       "      <td>Decline to State</td>\n",
       "      <td>24.0</td>\n",
       "      <td>2017-18</td>\n",
       "      <td>(SIRed)</td>\n",
       "    </tr>\n",
       "    <tr>\n",
       "      <th>382</th>\n",
       "      <td>Clg of Natural Resources</td>\n",
       "      <td>CA Resident</td>\n",
       "      <td>Female</td>\n",
       "      <td>Asian</td>\n",
       "      <td>22.0</td>\n",
       "      <td>2017-18</td>\n",
       "      <td>(SIRed)</td>\n",
       "    </tr>\n",
       "    <tr>\n",
       "      <th>298</th>\n",
       "      <td>Clg of Letters &amp; Science</td>\n",
       "      <td>CA Resident</td>\n",
       "      <td>Male</td>\n",
       "      <td>Decline to State</td>\n",
       "      <td>21.0</td>\n",
       "      <td>2017-18</td>\n",
       "      <td>(SIRed)</td>\n",
       "    </tr>\n",
       "    <tr>\n",
       "      <th>234</th>\n",
       "      <td>Clg of Environmental Design</td>\n",
       "      <td>International</td>\n",
       "      <td>Male</td>\n",
       "      <td>International</td>\n",
       "      <td>20.0</td>\n",
       "      <td>2017-18</td>\n",
       "      <td>(SIRed)</td>\n",
       "    </tr>\n",
       "    <tr>\n",
       "      <th>501</th>\n",
       "      <td>Haas School of Business</td>\n",
       "      <td>CA Resident</td>\n",
       "      <td>Male</td>\n",
       "      <td>White</td>\n",
       "      <td>18.0</td>\n",
       "      <td>2017-18</td>\n",
       "      <td>(SIRed)</td>\n",
       "    </tr>\n",
       "    <tr>\n",
       "      <th>419</th>\n",
       "      <td>Clg of Natural Resources</td>\n",
       "      <td>International</td>\n",
       "      <td>Female</td>\n",
       "      <td>International</td>\n",
       "      <td>17.0</td>\n",
       "      <td>2017-18</td>\n",
       "      <td>(SIRed)</td>\n",
       "    </tr>\n",
       "    <tr>\n",
       "      <th>489</th>\n",
       "      <td>Haas School of Business</td>\n",
       "      <td>CA Resident</td>\n",
       "      <td>Male</td>\n",
       "      <td>Chicano/Latino</td>\n",
       "      <td>17.0</td>\n",
       "      <td>2017-18</td>\n",
       "      <td>(SIRed)</td>\n",
       "    </tr>\n",
       "    <tr>\n",
       "      <th>277</th>\n",
       "      <td>Clg of Letters &amp; Science</td>\n",
       "      <td>CA Resident</td>\n",
       "      <td>Female</td>\n",
       "      <td>Decline to State</td>\n",
       "      <td>16.0</td>\n",
       "      <td>2017-18</td>\n",
       "      <td>(SIRed)</td>\n",
       "    </tr>\n",
       "    <tr>\n",
       "      <th>385</th>\n",
       "      <td>Clg of Natural Resources</td>\n",
       "      <td>CA Resident</td>\n",
       "      <td>Female</td>\n",
       "      <td>Chicano/Latino</td>\n",
       "      <td>16.0</td>\n",
       "      <td>2017-18</td>\n",
       "      <td>(SIRed)</td>\n",
       "    </tr>\n",
       "    <tr>\n",
       "      <th>231</th>\n",
       "      <td>Clg of Environmental Design</td>\n",
       "      <td>International</td>\n",
       "      <td>Female</td>\n",
       "      <td>International</td>\n",
       "      <td>16.0</td>\n",
       "      <td>2017-18</td>\n",
       "      <td>(SIRed)</td>\n",
       "    </tr>\n",
       "    <tr>\n",
       "      <th>47</th>\n",
       "      <td>Clg of Chemistry</td>\n",
       "      <td>CA Resident</td>\n",
       "      <td>Male</td>\n",
       "      <td>White</td>\n",
       "      <td>14.0</td>\n",
       "      <td>2017-18</td>\n",
       "      <td>(SIRed)</td>\n",
       "    </tr>\n",
       "    <tr>\n",
       "      <th>486</th>\n",
       "      <td>Haas School of Business</td>\n",
       "      <td>CA Resident</td>\n",
       "      <td>Male</td>\n",
       "      <td>Asian</td>\n",
       "      <td>14.0</td>\n",
       "      <td>2017-18</td>\n",
       "      <td>(SIRed)</td>\n",
       "    </tr>\n",
       "    <tr>\n",
       "      <th>209</th>\n",
       "      <td>Clg of Environmental Design</td>\n",
       "      <td>CA Resident</td>\n",
       "      <td>Female</td>\n",
       "      <td>White</td>\n",
       "      <td>12.0</td>\n",
       "      <td>2017-18</td>\n",
       "      <td>(SIRed)</td>\n",
       "    </tr>\n",
       "    <tr>\n",
       "      <th>416</th>\n",
       "      <td>Clg of Natural Resources</td>\n",
       "      <td>CA Resident</td>\n",
       "      <td>Male</td>\n",
       "      <td>White</td>\n",
       "      <td>12.0</td>\n",
       "      <td>2017-18</td>\n",
       "      <td>(SIRed)</td>\n",
       "    </tr>\n",
       "    <tr>\n",
       "      <th>480</th>\n",
       "      <td>Haas School of Business</td>\n",
       "      <td>CA Resident</td>\n",
       "      <td>Female</td>\n",
       "      <td>White</td>\n",
       "      <td>12.0</td>\n",
       "      <td>2017-18</td>\n",
       "      <td>(SIRed)</td>\n",
       "    </tr>\n",
       "    <tr>\n",
       "      <th>...</th>\n",
       "      <td>...</td>\n",
       "      <td>...</td>\n",
       "      <td>...</td>\n",
       "      <td>...</td>\n",
       "      <td>...</td>\n",
       "      <td>...</td>\n",
       "      <td>...</td>\n",
       "    </tr>\n",
       "    <tr>\n",
       "      <th>165</th>\n",
       "      <td>Clg of Engineering</td>\n",
       "      <td>Out of State Domestic</td>\n",
       "      <td>Female</td>\n",
       "      <td>Decline to State</td>\n",
       "      <td>0.0</td>\n",
       "      <td>2017-18</td>\n",
       "      <td>(SIRed)</td>\n",
       "    </tr>\n",
       "    <tr>\n",
       "      <th>169</th>\n",
       "      <td>Clg of Engineering</td>\n",
       "      <td>Out of State Domestic</td>\n",
       "      <td>Female</td>\n",
       "      <td>White</td>\n",
       "      <td>0.0</td>\n",
       "      <td>2017-18</td>\n",
       "      <td>(SIRed)</td>\n",
       "    </tr>\n",
       "    <tr>\n",
       "      <th>172</th>\n",
       "      <td>Clg of Engineering</td>\n",
       "      <td>Out of State Domestic</td>\n",
       "      <td>Male</td>\n",
       "      <td>African American</td>\n",
       "      <td>0.0</td>\n",
       "      <td>2017-18</td>\n",
       "      <td>(SIRed)</td>\n",
       "    </tr>\n",
       "    <tr>\n",
       "      <th>178</th>\n",
       "      <td>Clg of Engineering</td>\n",
       "      <td>Out of State Domestic</td>\n",
       "      <td>Male</td>\n",
       "      <td>Chicano/Latino</td>\n",
       "      <td>0.0</td>\n",
       "      <td>2017-18</td>\n",
       "      <td>(SIRed)</td>\n",
       "    </tr>\n",
       "    <tr>\n",
       "      <th>181</th>\n",
       "      <td>Clg of Engineering</td>\n",
       "      <td>Out of State Domestic</td>\n",
       "      <td>Male</td>\n",
       "      <td>Decline to State</td>\n",
       "      <td>0.0</td>\n",
       "      <td>2017-18</td>\n",
       "      <td>(SIRed)</td>\n",
       "    </tr>\n",
       "    <tr>\n",
       "      <th>184</th>\n",
       "      <td>Clg of Engineering</td>\n",
       "      <td>Out of State Domestic</td>\n",
       "      <td>Male</td>\n",
       "      <td>Pacific Islander</td>\n",
       "      <td>0.0</td>\n",
       "      <td>2017-18</td>\n",
       "      <td>(SIRed)</td>\n",
       "    </tr>\n",
       "    <tr>\n",
       "      <th>247</th>\n",
       "      <td>Clg of Environmental Design</td>\n",
       "      <td>Out of State Domestic</td>\n",
       "      <td>Male</td>\n",
       "      <td>White</td>\n",
       "      <td>0.0</td>\n",
       "      <td>2017-18</td>\n",
       "      <td>(SIRed)</td>\n",
       "    </tr>\n",
       "    <tr>\n",
       "      <th>237</th>\n",
       "      <td>Clg of Environmental Design</td>\n",
       "      <td>Out of State Domestic</td>\n",
       "      <td>Female</td>\n",
       "      <td>Asian</td>\n",
       "      <td>0.0</td>\n",
       "      <td>2017-18</td>\n",
       "      <td>(SIRed)</td>\n",
       "    </tr>\n",
       "    <tr>\n",
       "      <th>110</th>\n",
       "      <td>Clg of Engineering</td>\n",
       "      <td>CA Resident</td>\n",
       "      <td>Female</td>\n",
       "      <td>Decline to State</td>\n",
       "      <td>0.0</td>\n",
       "      <td>2017-18</td>\n",
       "      <td>(SIRed)</td>\n",
       "    </tr>\n",
       "    <tr>\n",
       "      <th>326</th>\n",
       "      <td>Clg of Letters &amp; Science</td>\n",
       "      <td>Out of State Domestic</td>\n",
       "      <td>Female</td>\n",
       "      <td>African American</td>\n",
       "      <td>0.0</td>\n",
       "      <td>2017-18</td>\n",
       "      <td>(SIRed)</td>\n",
       "    </tr>\n",
       "    <tr>\n",
       "      <th>64</th>\n",
       "      <td>Clg of Chemistry</td>\n",
       "      <td>Out of State Domestic</td>\n",
       "      <td>Female</td>\n",
       "      <td>Asian</td>\n",
       "      <td>0.0</td>\n",
       "      <td>2017-18</td>\n",
       "      <td>(SIRed)</td>\n",
       "    </tr>\n",
       "    <tr>\n",
       "      <th>98</th>\n",
       "      <td>Clg of Engineering</td>\n",
       "      <td>CA Resident</td>\n",
       "      <td>Decline to State</td>\n",
       "      <td>White</td>\n",
       "      <td>0.0</td>\n",
       "      <td>2017-18</td>\n",
       "      <td>(SIRed)</td>\n",
       "    </tr>\n",
       "    <tr>\n",
       "      <th>67</th>\n",
       "      <td>Clg of Chemistry</td>\n",
       "      <td>Out of State Domestic</td>\n",
       "      <td>Female</td>\n",
       "      <td>Chicano/Latino</td>\n",
       "      <td>0.0</td>\n",
       "      <td>2017-18</td>\n",
       "      <td>(SIRed)</td>\n",
       "    </tr>\n",
       "    <tr>\n",
       "      <th>70</th>\n",
       "      <td>Clg of Chemistry</td>\n",
       "      <td>Out of State Domestic</td>\n",
       "      <td>Female</td>\n",
       "      <td>White</td>\n",
       "      <td>0.0</td>\n",
       "      <td>2017-18</td>\n",
       "      <td>(SIRed)</td>\n",
       "    </tr>\n",
       "    <tr>\n",
       "      <th>73</th>\n",
       "      <td>Clg of Chemistry</td>\n",
       "      <td>Out of State Domestic</td>\n",
       "      <td>Male</td>\n",
       "      <td>African American</td>\n",
       "      <td>0.0</td>\n",
       "      <td>2017-18</td>\n",
       "      <td>(SIRed)</td>\n",
       "    </tr>\n",
       "    <tr>\n",
       "      <th>76</th>\n",
       "      <td>Clg of Chemistry</td>\n",
       "      <td>Out of State Domestic</td>\n",
       "      <td>Male</td>\n",
       "      <td>Asian</td>\n",
       "      <td>0.0</td>\n",
       "      <td>2017-18</td>\n",
       "      <td>(SIRed)</td>\n",
       "    </tr>\n",
       "    <tr>\n",
       "      <th>393</th>\n",
       "      <td>Clg of Natural Resources</td>\n",
       "      <td>CA Resident</td>\n",
       "      <td>Female</td>\n",
       "      <td>Pacific Islander</td>\n",
       "      <td>0.0</td>\n",
       "      <td>2017-18</td>\n",
       "      <td>(SIRed)</td>\n",
       "    </tr>\n",
       "    <tr>\n",
       "      <th>388</th>\n",
       "      <td>Clg of Natural Resources</td>\n",
       "      <td>CA Resident</td>\n",
       "      <td>Female</td>\n",
       "      <td>Decline to State</td>\n",
       "      <td>0.0</td>\n",
       "      <td>2017-18</td>\n",
       "      <td>(SIRed)</td>\n",
       "    </tr>\n",
       "    <tr>\n",
       "      <th>79</th>\n",
       "      <td>Clg of Chemistry</td>\n",
       "      <td>Out of State Domestic</td>\n",
       "      <td>Male</td>\n",
       "      <td>Chicano/Latino</td>\n",
       "      <td>0.0</td>\n",
       "      <td>2017-18</td>\n",
       "      <td>(SIRed)</td>\n",
       "    </tr>\n",
       "    <tr>\n",
       "      <th>82</th>\n",
       "      <td>Clg of Chemistry</td>\n",
       "      <td>Out of State Domestic</td>\n",
       "      <td>Male</td>\n",
       "      <td>Native American/Alaska Native</td>\n",
       "      <td>0.0</td>\n",
       "      <td>2017-18</td>\n",
       "      <td>(SIRed)</td>\n",
       "    </tr>\n",
       "    <tr>\n",
       "      <th>373</th>\n",
       "      <td>Clg of Natural Resources</td>\n",
       "      <td>CA Resident</td>\n",
       "      <td>Decline to State</td>\n",
       "      <td>Decline to State</td>\n",
       "      <td>0.0</td>\n",
       "      <td>2017-18</td>\n",
       "      <td>(SIRed)</td>\n",
       "    </tr>\n",
       "    <tr>\n",
       "      <th>370</th>\n",
       "      <td>Clg of Natural Resources</td>\n",
       "      <td>CA Resident</td>\n",
       "      <td>Decline to State</td>\n",
       "      <td>Chicano/Latino</td>\n",
       "      <td>0.0</td>\n",
       "      <td>2017-18</td>\n",
       "      <td>(SIRed)</td>\n",
       "    </tr>\n",
       "    <tr>\n",
       "      <th>367</th>\n",
       "      <td>Clg of Natural Resources</td>\n",
       "      <td>CA Resident</td>\n",
       "      <td>Decline to State</td>\n",
       "      <td>Asian</td>\n",
       "      <td>0.0</td>\n",
       "      <td>2017-18</td>\n",
       "      <td>(SIRed)</td>\n",
       "    </tr>\n",
       "    <tr>\n",
       "      <th>85</th>\n",
       "      <td>Clg of Chemistry</td>\n",
       "      <td>Out of State Domestic</td>\n",
       "      <td>Male</td>\n",
       "      <td>White</td>\n",
       "      <td>0.0</td>\n",
       "      <td>2017-18</td>\n",
       "      <td>(SIRed)</td>\n",
       "    </tr>\n",
       "    <tr>\n",
       "      <th>360</th>\n",
       "      <td>Clg of Letters &amp; Science</td>\n",
       "      <td>Out of State Domestic</td>\n",
       "      <td>Male</td>\n",
       "      <td>Pacific Islander</td>\n",
       "      <td>0.0</td>\n",
       "      <td>2017-18</td>\n",
       "      <td>(SIRed)</td>\n",
       "    </tr>\n",
       "    <tr>\n",
       "      <th>358</th>\n",
       "      <td>Clg of Letters &amp; Science</td>\n",
       "      <td>Out of State Domestic</td>\n",
       "      <td>Male</td>\n",
       "      <td>Native American/Alaska Native</td>\n",
       "      <td>0.0</td>\n",
       "      <td>2017-18</td>\n",
       "      <td>(SIRed)</td>\n",
       "    </tr>\n",
       "    <tr>\n",
       "      <th>355</th>\n",
       "      <td>Clg of Letters &amp; Science</td>\n",
       "      <td>Out of State Domestic</td>\n",
       "      <td>Male</td>\n",
       "      <td>Decline to State</td>\n",
       "      <td>0.0</td>\n",
       "      <td>2017-18</td>\n",
       "      <td>(SIRed)</td>\n",
       "    </tr>\n",
       "    <tr>\n",
       "      <th>340</th>\n",
       "      <td>Clg of Letters &amp; Science</td>\n",
       "      <td>Out of State Domestic</td>\n",
       "      <td>Female</td>\n",
       "      <td>Pacific Islander</td>\n",
       "      <td>0.0</td>\n",
       "      <td>2017-18</td>\n",
       "      <td>(SIRed)</td>\n",
       "    </tr>\n",
       "    <tr>\n",
       "      <th>335</th>\n",
       "      <td>Clg of Letters &amp; Science</td>\n",
       "      <td>Out of State Domestic</td>\n",
       "      <td>Female</td>\n",
       "      <td>Decline to State</td>\n",
       "      <td>0.0</td>\n",
       "      <td>2017-18</td>\n",
       "      <td>(SIRed)</td>\n",
       "    </tr>\n",
       "    <tr>\n",
       "      <th>1</th>\n",
       "      <td>Clg of Chemistry</td>\n",
       "      <td>CA Resident</td>\n",
       "      <td>Decline to State</td>\n",
       "      <td>African American</td>\n",
       "      <td>0.0</td>\n",
       "      <td>2017-18</td>\n",
       "      <td>(SIRed)</td>\n",
       "    </tr>\n",
       "  </tbody>\n",
       "</table>\n",
       "<p>176 rows × 7 columns</p>\n",
       "</div>"
      ],
      "text/plain": [
       "                         college              residence            gender  \\\n",
       "286     Clg of Letters & Science            CA Resident            Female   \n",
       "271     Clg of Letters & Science            CA Resident            Female   \n",
       "307     Clg of Letters & Science            CA Resident              Male   \n",
       "292     Clg of Letters & Science            CA Resident              Male   \n",
       "274     Clg of Letters & Science            CA Resident            Female   \n",
       "295     Clg of Letters & Science            CA Resident              Male   \n",
       "313     Clg of Letters & Science          International            Female   \n",
       "316     Clg of Letters & Science          International              Male   \n",
       "268     Clg of Letters & Science            CA Resident            Female   \n",
       "289     Clg of Letters & Science            CA Resident              Male   \n",
       "125           Clg of Engineering            CA Resident              Male   \n",
       "149           Clg of Engineering          International              Male   \n",
       "140           Clg of Engineering            CA Resident              Male   \n",
       "396     Clg of Natural Resources            CA Resident            Female   \n",
       "128           Clg of Engineering            CA Resident              Male   \n",
       "259     Clg of Letters & Science            CA Resident  Decline to State   \n",
       "382     Clg of Natural Resources            CA Resident            Female   \n",
       "298     Clg of Letters & Science            CA Resident              Male   \n",
       "234  Clg of Environmental Design          International              Male   \n",
       "501      Haas School of Business            CA Resident              Male   \n",
       "419     Clg of Natural Resources          International            Female   \n",
       "489      Haas School of Business            CA Resident              Male   \n",
       "277     Clg of Letters & Science            CA Resident            Female   \n",
       "385     Clg of Natural Resources            CA Resident            Female   \n",
       "231  Clg of Environmental Design          International            Female   \n",
       "47              Clg of Chemistry            CA Resident              Male   \n",
       "486      Haas School of Business            CA Resident              Male   \n",
       "209  Clg of Environmental Design            CA Resident            Female   \n",
       "416     Clg of Natural Resources            CA Resident              Male   \n",
       "480      Haas School of Business            CA Resident            Female   \n",
       "..                           ...                    ...               ...   \n",
       "165           Clg of Engineering  Out of State Domestic            Female   \n",
       "169           Clg of Engineering  Out of State Domestic            Female   \n",
       "172           Clg of Engineering  Out of State Domestic              Male   \n",
       "178           Clg of Engineering  Out of State Domestic              Male   \n",
       "181           Clg of Engineering  Out of State Domestic              Male   \n",
       "184           Clg of Engineering  Out of State Domestic              Male   \n",
       "247  Clg of Environmental Design  Out of State Domestic              Male   \n",
       "237  Clg of Environmental Design  Out of State Domestic            Female   \n",
       "110           Clg of Engineering            CA Resident            Female   \n",
       "326     Clg of Letters & Science  Out of State Domestic            Female   \n",
       "64              Clg of Chemistry  Out of State Domestic            Female   \n",
       "98            Clg of Engineering            CA Resident  Decline to State   \n",
       "67              Clg of Chemistry  Out of State Domestic            Female   \n",
       "70              Clg of Chemistry  Out of State Domestic            Female   \n",
       "73              Clg of Chemistry  Out of State Domestic              Male   \n",
       "76              Clg of Chemistry  Out of State Domestic              Male   \n",
       "393     Clg of Natural Resources            CA Resident            Female   \n",
       "388     Clg of Natural Resources            CA Resident            Female   \n",
       "79              Clg of Chemistry  Out of State Domestic              Male   \n",
       "82              Clg of Chemistry  Out of State Domestic              Male   \n",
       "373     Clg of Natural Resources            CA Resident  Decline to State   \n",
       "370     Clg of Natural Resources            CA Resident  Decline to State   \n",
       "367     Clg of Natural Resources            CA Resident  Decline to State   \n",
       "85              Clg of Chemistry  Out of State Domestic              Male   \n",
       "360     Clg of Letters & Science  Out of State Domestic              Male   \n",
       "358     Clg of Letters & Science  Out of State Domestic              Male   \n",
       "355     Clg of Letters & Science  Out of State Domestic              Male   \n",
       "340     Clg of Letters & Science  Out of State Domestic            Female   \n",
       "335     Clg of Letters & Science  Out of State Domestic            Female   \n",
       "1               Clg of Chemistry            CA Resident  Decline to State   \n",
       "\n",
       "                              ethn  number     year   status  \n",
       "286                          White   352.0  2017-18  (SIRed)  \n",
       "271                          Asian   350.0  2017-18  (SIRed)  \n",
       "307                          White   299.0  2017-18  (SIRed)  \n",
       "292                          Asian   298.0  2017-18  (SIRed)  \n",
       "274                 Chicano/Latino   258.0  2017-18  (SIRed)  \n",
       "295                 Chicano/Latino   225.0  2017-18  (SIRed)  \n",
       "313                  International   205.0  2017-18  (SIRed)  \n",
       "316                  International   165.0  2017-18  (SIRed)  \n",
       "268               African American    64.0  2017-18  (SIRed)  \n",
       "289               African American    52.0  2017-18  (SIRed)  \n",
       "125                          Asian    52.0  2017-18  (SIRed)  \n",
       "149                  International    46.0  2017-18  (SIRed)  \n",
       "140                          White    37.0  2017-18  (SIRed)  \n",
       "396                          White    33.0  2017-18  (SIRed)  \n",
       "128                 Chicano/Latino    26.0  2017-18  (SIRed)  \n",
       "259               Decline to State    24.0  2017-18  (SIRed)  \n",
       "382                          Asian    22.0  2017-18  (SIRed)  \n",
       "298               Decline to State    21.0  2017-18  (SIRed)  \n",
       "234                  International    20.0  2017-18  (SIRed)  \n",
       "501                          White    18.0  2017-18  (SIRed)  \n",
       "419                  International    17.0  2017-18  (SIRed)  \n",
       "489                 Chicano/Latino    17.0  2017-18  (SIRed)  \n",
       "277               Decline to State    16.0  2017-18  (SIRed)  \n",
       "385                 Chicano/Latino    16.0  2017-18  (SIRed)  \n",
       "231                  International    16.0  2017-18  (SIRed)  \n",
       "47                           White    14.0  2017-18  (SIRed)  \n",
       "486                          Asian    14.0  2017-18  (SIRed)  \n",
       "209                          White    12.0  2017-18  (SIRed)  \n",
       "416                          White    12.0  2017-18  (SIRed)  \n",
       "480                          White    12.0  2017-18  (SIRed)  \n",
       "..                             ...     ...      ...      ...  \n",
       "165               Decline to State     0.0  2017-18  (SIRed)  \n",
       "169                          White     0.0  2017-18  (SIRed)  \n",
       "172               African American     0.0  2017-18  (SIRed)  \n",
       "178                 Chicano/Latino     0.0  2017-18  (SIRed)  \n",
       "181               Decline to State     0.0  2017-18  (SIRed)  \n",
       "184               Pacific Islander     0.0  2017-18  (SIRed)  \n",
       "247                          White     0.0  2017-18  (SIRed)  \n",
       "237                          Asian     0.0  2017-18  (SIRed)  \n",
       "110               Decline to State     0.0  2017-18  (SIRed)  \n",
       "326               African American     0.0  2017-18  (SIRed)  \n",
       "64                           Asian     0.0  2017-18  (SIRed)  \n",
       "98                           White     0.0  2017-18  (SIRed)  \n",
       "67                  Chicano/Latino     0.0  2017-18  (SIRed)  \n",
       "70                           White     0.0  2017-18  (SIRed)  \n",
       "73                African American     0.0  2017-18  (SIRed)  \n",
       "76                           Asian     0.0  2017-18  (SIRed)  \n",
       "393               Pacific Islander     0.0  2017-18  (SIRed)  \n",
       "388               Decline to State     0.0  2017-18  (SIRed)  \n",
       "79                  Chicano/Latino     0.0  2017-18  (SIRed)  \n",
       "82   Native American/Alaska Native     0.0  2017-18  (SIRed)  \n",
       "373               Decline to State     0.0  2017-18  (SIRed)  \n",
       "370                 Chicano/Latino     0.0  2017-18  (SIRed)  \n",
       "367                          Asian     0.0  2017-18  (SIRed)  \n",
       "85                           White     0.0  2017-18  (SIRed)  \n",
       "360               Pacific Islander     0.0  2017-18  (SIRed)  \n",
       "358  Native American/Alaska Native     0.0  2017-18  (SIRed)  \n",
       "355               Decline to State     0.0  2017-18  (SIRed)  \n",
       "340               Pacific Islander     0.0  2017-18  (SIRed)  \n",
       "335               Decline to State     0.0  2017-18  (SIRed)  \n",
       "1                 African American     0.0  2017-18  (SIRed)  \n",
       "\n",
       "[176 rows x 7 columns]"
      ]
     },
     "execution_count": 7,
     "metadata": {},
     "output_type": "execute_result"
    }
   ],
   "source": [
    "classof20.sort_values(by='number', ascending=False)"
   ]
  },
  {
   "cell_type": "code",
   "execution_count": 8,
   "metadata": {},
   "outputs": [],
   "source": [
    "ethndf = classof20.groupby('ethn')"
   ]
  },
  {
   "cell_type": "code",
   "execution_count": 9,
   "metadata": {},
   "outputs": [
    {
     "data": {
      "text/plain": [
       "ethn\n",
       "African American                 24\n",
       "Asian                            28\n",
       "Chicano/Latino                   25\n",
       "Decline to State                 29\n",
       "International                    17\n",
       "Native American/Alaska Native    12\n",
       "Pacific Islander                 12\n",
       "White                            29\n",
       "dtype: int64"
      ]
     },
     "execution_count": 9,
     "metadata": {},
     "output_type": "execute_result"
    }
   ],
   "source": [
    "ethndf.size()"
   ]
  },
  {
   "cell_type": "code",
   "execution_count": 10,
   "metadata": {},
   "outputs": [
    {
     "name": "stdout",
     "output_type": "stream",
     "text": [
      "['African American', 'Asian', 'Chicano/Latino', 'Decline to State', 'International', 'Native American/Alaska Native', 'Pacific Islander', 'White']\n"
     ]
    }
   ],
   "source": [
    "cols = [name for name, group in ethndf]\n",
    "print(cols)"
   ]
  },
  {
   "cell_type": "code",
   "execution_count": 11,
   "metadata": {},
   "outputs": [],
   "source": [
    "african = ethndf.get_group(cols[0])\n",
    "asian = ethndf.get_group(cols[1])\n",
    "latinx = ethndf.get_group(cols[2])\n",
    "decline = ethndf.get_group(cols[3])\n",
    "international = ethndf.get_group(cols[4])\n",
    "native = ethndf.get_group(cols[5])\n",
    "islander = ethndf.get_group(cols[6])\n",
    "white = ethndf.get_group(cols[7])"
   ]
  },
  {
   "cell_type": "code",
   "execution_count": 12,
   "metadata": {},
   "outputs": [],
   "source": [
    "labels = []\n",
    "values = []\n",
    "for index in cols:\n",
    "    df = ethndf.get_group(index)\n",
    "    labels.append(index)\n",
    "    values.append(df.number.sum())"
   ]
  },
  {
   "cell_type": "code",
   "execution_count": 13,
   "metadata": {},
   "outputs": [
    {
     "name": "stdout",
     "output_type": "stream",
     "text": [
      "['African American', 'Asian', 'Chicano/Latino', 'Decline to State', 'International', 'Native American/Alaska Native', 'Pacific Islander', 'White']\n",
      "[138.0, 813.0, 583.0, 73.0, 524.0, 14.0, 8.0, 829.0]\n"
     ]
    }
   ],
   "source": [
    "print(labels)\n",
    "print(values)"
   ]
  },
  {
   "cell_type": "code",
   "execution_count": 14,
   "metadata": {},
   "outputs": [],
   "source": [
    "import plotly.plotly as py\n",
    "import plotly.graph_objs as go\n",
    "import plotly"
   ]
  },
  {
   "cell_type": "code",
   "execution_count": 15,
   "metadata": {},
   "outputs": [
    {
     "data": {
      "text/html": [
       "<iframe id=\"igraph\" scrolling=\"no\" style=\"border:none;\" seamless=\"seamless\" src=\"https://plot.ly/~shrivastavaa/8.embed\" height=\"525px\" width=\"100%\"></iframe>"
      ],
      "text/plain": [
       "<plotly.tools.PlotlyDisplay object>"
      ]
     },
     "execution_count": 15,
     "metadata": {},
     "output_type": "execute_result"
    }
   ],
   "source": [
    "plotly.tools.set_credentials_file(username='shrivastavaa', api_key='SWbR8ocKavC28hmTOMG7')\n",
    "\n",
    "trace = go.Pie(labels=labels, values=values)\n",
    "py.iplot([trace], filename='basic_pie_chart')"
   ]
  },
  {
   "cell_type": "code",
   "execution_count": 16,
   "metadata": {},
   "outputs": [
    {
     "data": {
      "text/plain": [
       "gender\n",
       "Decline to State    32\n",
       "Female              70\n",
       "Male                74\n",
       "dtype: int64"
      ]
     },
     "execution_count": 16,
     "metadata": {},
     "output_type": "execute_result"
    }
   ],
   "source": [
    "genderdf = classof20.groupby('gender')\n",
    "genderdf.size()"
   ]
  },
  {
   "cell_type": "code",
   "execution_count": 17,
   "metadata": {},
   "outputs": [],
   "source": [
    "gendercols = [name for name, group in genderdf]\n",
    "genderlabels = []\n",
    "gendervalues = []\n",
    "for index in gendercols:\n",
    "    df = genderdf.get_group(index)\n",
    "    genderlabels.append(index)\n",
    "    gendervalues.append(df.number.sum())"
   ]
  },
  {
   "cell_type": "code",
   "execution_count": 18,
   "metadata": {},
   "outputs": [
    {
     "data": {
      "text/html": [
       "<iframe id=\"igraph\" scrolling=\"no\" style=\"border:none;\" seamless=\"seamless\" src=\"https://plot.ly/~shrivastavaa/10.embed\" height=\"525px\" width=\"100%\"></iframe>"
      ],
      "text/plain": [
       "<plotly.tools.PlotlyDisplay object>"
      ]
     },
     "execution_count": 18,
     "metadata": {},
     "output_type": "execute_result"
    }
   ],
   "source": [
    "trace1 = go.Pie(labels=genderlabels, values=gendervalues)\n",
    "py.iplot([trace1], filename='genderpiechart')"
   ]
  },
  {
   "cell_type": "code",
   "execution_count": 19,
   "metadata": {},
   "outputs": [
    {
     "data": {
      "text/plain": [
       "college\n",
       "Clg of Chemistry               30\n",
       "Clg of Engineering             32\n",
       "Clg of Environmental Design    17\n",
       "Clg of Letters & Science       37\n",
       "Clg of Natural Resources       27\n",
       "Haas School of Business        33\n",
       "dtype: int64"
      ]
     },
     "execution_count": 19,
     "metadata": {},
     "output_type": "execute_result"
    }
   ],
   "source": [
    "collegedf = classof20.groupby('college')\n",
    "collegedf.size()"
   ]
  },
  {
   "cell_type": "code",
   "execution_count": 20,
   "metadata": {},
   "outputs": [],
   "source": [
    "collegecols = [name for name, group in collegedf]\n",
    "collegelabels = []\n",
    "collegevalues = []\n",
    "for index in collegecols:\n",
    "    df = collegedf.get_group(index)\n",
    "    collegelabels.append(index)\n",
    "    collegevalues.append(df.number.sum())"
   ]
  },
  {
   "cell_type": "code",
   "execution_count": 21,
   "metadata": {},
   "outputs": [
    {
     "data": {
      "text/html": [
       "<iframe id=\"igraph\" scrolling=\"no\" style=\"border:none;\" seamless=\"seamless\" src=\"https://plot.ly/~shrivastavaa/12.embed\" height=\"525px\" width=\"100%\"></iframe>"
      ],
      "text/plain": [
       "<plotly.tools.PlotlyDisplay object>"
      ]
     },
     "execution_count": 21,
     "metadata": {},
     "output_type": "execute_result"
    }
   ],
   "source": [
    "trace2 = go.Pie(labels=collegelabels, values=collegevalues)\n",
    "py.iplot([trace2], filename='collegepiechart')"
   ]
  },
  {
   "cell_type": "code",
   "execution_count": 22,
   "metadata": {},
   "outputs": [
    {
     "data": {
      "text/html": [
       "<iframe id=\"igraph\" scrolling=\"no\" style=\"border:none;\" seamless=\"seamless\" src=\"https://plot.ly/~shrivastavaa/14.embed\" height=\"525px\" width=\"100%\"></iframe>"
      ],
      "text/plain": [
       "<plotly.tools.PlotlyDisplay object>"
      ]
     },
     "execution_count": 22,
     "metadata": {},
     "output_type": "execute_result"
    }
   ],
   "source": [
    "residencedf = classof20.groupby('residence')\n",
    "residencecols = [name for name, group in residencedf]\n",
    "residencelabels = []\n",
    "residencevalues = []\n",
    "for index in residencecols:\n",
    "    df = residencedf.get_group(index)\n",
    "    residencelabels.append(index)\n",
    "    residencevalues.append(df.number.sum())\n",
    "\n",
    "trace3 = go.Pie(labels=residencelabels, values=residencevalues)\n",
    "py.iplot([trace3], filename='residencepiechart')"
   ]
  },
  {
   "cell_type": "code",
   "execution_count": 23,
   "metadata": {},
   "outputs": [
    {
     "data": {
      "text/html": [
       "<iframe id=\"igraph\" scrolling=\"no\" style=\"border:none;\" seamless=\"seamless\" src=\"https://plot.ly/~shrivastavaa/16.embed\" height=\"525px\" width=\"100%\"></iframe>"
      ],
      "text/plain": [
       "<plotly.tools.PlotlyDisplay object>"
      ]
     },
     "execution_count": 23,
     "metadata": {},
     "output_type": "execute_result"
    }
   ],
   "source": [
    "firstgendf = newclassof20.groupby('firstgen')\n",
    "firstgencols = [name for name, group in firstgendf]\n",
    "firstgenlabels = []\n",
    "firstgenvalues = []\n",
    "for index in firstgencols:\n",
    "    df = firstgendf.get_group(index)\n",
    "    firstgenlabels.append(index)\n",
    "    firstgenvalues.append(df.number.sum())\n",
    "\n",
    "trace4 = go.Pie(labels=firstgenlabels, values=firstgenvalues)\n",
    "py.iplot([trace4], filename='firstgenpiechart')"
   ]
  },
  {
   "cell_type": "code",
   "execution_count": 24,
   "metadata": {},
   "outputs": [
    {
     "data": {
      "text/html": [
       "<iframe id=\"igraph\" scrolling=\"no\" style=\"border:none;\" seamless=\"seamless\" src=\"https://plot.ly/~shrivastavaa/18.embed\" height=\"525px\" width=\"100%\"></iframe>"
      ],
      "text/plain": [
       "<plotly.tools.PlotlyDisplay object>"
      ]
     },
     "execution_count": 24,
     "metadata": {},
     "output_type": "execute_result"
    }
   ],
   "source": [
    "majordf = newclassof20.groupby('major')\n",
    "majorcols = [name for name, group in majordf]\n",
    "majorlabels = []\n",
    "majorvalues = []\n",
    "for index in majorcols:\n",
    "    df = majordf.get_group(index)\n",
    "    majorlabels.append(index)\n",
    "    majorvalues.append(df.number.sum())\n",
    "\n",
    "trace5 = go.Pie(labels=majorlabels, values=majorvalues)\n",
    "py.iplot([trace5], filename='majorpiechart')"
   ]
  },
  {
   "cell_type": "code",
   "execution_count": 25,
   "metadata": {},
   "outputs": [
    {
     "data": {
      "text/html": [
       "<iframe id=\"igraph\" scrolling=\"no\" style=\"border:none;\" seamless=\"seamless\" src=\"https://plot.ly/~shrivastavaa/20.embed\" height=\"525px\" width=\"100%\"></iframe>"
      ],
      "text/plain": [
       "<plotly.tools.PlotlyDisplay object>"
      ]
     },
     "execution_count": 25,
     "metadata": {},
     "output_type": "execute_result"
    }
   ],
   "source": [
    "data = [go.Bar(\n",
    "            x=majorlabels,\n",
    "            y=majorvalues\n",
    "    )]\n",
    "\n",
    "py.iplot(data, filename='basic-bar')"
   ]
  },
  {
   "cell_type": "code",
   "execution_count": 26,
   "metadata": {},
   "outputs": [
    {
     "data": {
      "text/html": [
       "<iframe id=\"igraph\" scrolling=\"no\" style=\"border:none;\" seamless=\"seamless\" src=\"https://plot.ly/~shrivastavaa/22.embed\" height=\"525px\" width=\"100%\"></iframe>"
      ],
      "text/plain": [
       "<plotly.tools.PlotlyDisplay object>"
      ]
     },
     "execution_count": 26,
     "metadata": {},
     "output_type": "execute_result"
    }
   ],
   "source": [
    "departmentdf = newclassof20.groupby('department')\n",
    "departmentcols = [name for name, group in departmentdf]\n",
    "departmentlabels = []\n",
    "departmentvalues = []\n",
    "for index in departmentcols:\n",
    "    df = departmentdf.get_group(index)\n",
    "    departmentlabels.append(index)\n",
    "    departmentvalues.append(df.number.sum())\n",
    "\n",
    "trace6 = go.Pie(labels=departmentlabels, values=departmentvalues)\n",
    "py.iplot([trace6], filename='deptpiechart')"
   ]
  },
  {
   "cell_type": "code",
   "execution_count": 27,
   "metadata": {},
   "outputs": [
    {
     "data": {
      "text/html": [
       "<iframe id=\"igraph\" scrolling=\"no\" style=\"border:none;\" seamless=\"seamless\" src=\"https://plot.ly/~shrivastavaa/24.embed\" height=\"525px\" width=\"100%\"></iframe>"
      ],
      "text/plain": [
       "<plotly.tools.PlotlyDisplay object>"
      ]
     },
     "execution_count": 27,
     "metadata": {},
     "output_type": "execute_result"
    }
   ],
   "source": [
    "data2 = [go.Bar(\n",
    "            x=departmentlabels,\n",
    "            y=departmentvalues\n",
    "    )]\n",
    "\n",
    "py.iplot(data2, filename='dept-basic-bar')"
   ]
  },
  {
   "cell_type": "code",
   "execution_count": 28,
   "metadata": {},
   "outputs": [
    {
     "data": {
      "text/html": [
       "<iframe id=\"igraph\" scrolling=\"no\" style=\"border:none;\" seamless=\"seamless\" src=\"https://plot.ly/~shrivastavaa/26.embed\" height=\"525px\" width=\"100%\"></iframe>"
      ],
      "text/plain": [
       "<plotly.tools.PlotlyDisplay object>"
      ]
     },
     "execution_count": 28,
     "metadata": {},
     "output_type": "execute_result"
    }
   ],
   "source": [
    "firstgen2df = newclassof19.groupby('firstgen')\n",
    "firstgen2labels = []\n",
    "firstgen2values = []\n",
    "for index in firstgencols:\n",
    "    df = firstgen2df.get_group(index)\n",
    "    firstgen2labels.append(index)\n",
    "    firstgen2values.append(df.number.sum())\n",
    "\n",
    "trace6 = go.Pie(labels=firstgen2labels, values=firstgen2values)\n",
    "py.iplot([trace6], filename='firstgen2piechart')"
   ]
  },
  {
   "cell_type": "code",
   "execution_count": 29,
   "metadata": {},
   "outputs": [
    {
     "data": {
      "text/html": [
       "<iframe id=\"igraph\" scrolling=\"no\" style=\"border:none;\" seamless=\"seamless\" src=\"https://plot.ly/~shrivastavaa/28.embed\" height=\"525px\" width=\"100%\"></iframe>"
      ],
      "text/plain": [
       "<plotly.tools.PlotlyDisplay object>"
      ]
     },
     "execution_count": 29,
     "metadata": {},
     "output_type": "execute_result"
    }
   ],
   "source": [
    "firstgen3df = newclassof18.groupby('firstgen')\n",
    "firstgen3labels = []\n",
    "firstgen3values = []\n",
    "for index in firstgencols:\n",
    "    df = firstgen3df.get_group(index)\n",
    "    firstgen3labels.append(index)\n",
    "    firstgen3values.append(df.number.sum())\n",
    "\n",
    "trace7 = go.Pie(labels=firstgen3labels, values=firstgen3values)\n",
    "py.iplot([trace7], filename='firstgen3piechart')"
   ]
  },
  {
   "cell_type": "code",
   "execution_count": null,
   "metadata": {},
   "outputs": [],
   "source": []
  }
 ],
 "metadata": {
  "kernelspec": {
   "display_name": "Python 3",
   "language": "python",
   "name": "python3"
  },
  "language_info": {
   "codemirror_mode": {
    "name": "ipython",
    "version": 3
   },
   "file_extension": ".py",
   "mimetype": "text/x-python",
   "name": "python",
   "nbconvert_exporter": "python",
   "pygments_lexer": "ipython3",
   "version": "3.6.5"
  }
 },
 "nbformat": 4,
 "nbformat_minor": 2
}
